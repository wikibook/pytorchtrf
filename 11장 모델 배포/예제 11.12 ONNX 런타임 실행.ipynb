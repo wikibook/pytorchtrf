{
 "cells": [
  {
   "cell_type": "code",
   "execution_count": null,
   "id": "f49f0bd8-df62-4097-9d3e-9378e48c8e9b",
   "metadata": {},
   "outputs": [],
   "source": [
    "import time\n",
    "import torch\n",
    "import onnxruntime as ort\n",
    "from PIL import Image\n",
    "from torchvision import models\n",
    "from torchvision import transforms\n",
    "\n",
    "\n",
    "def to_numpy(tensor):\n",
    "    return tensor.detach().cpu().numpy()\n",
    "\n",
    "\n",
    "image = Image.open(\"../datasets/images/cat.jpg\")\n",
    "transform = transforms.Compose(\n",
    "    [\n",
    "        transforms.Resize(256),\n",
    "        transforms.CenterCrop(224),\n",
    "        transforms.ToTensor(),\n",
    "        transforms.Normalize(\n",
    "            mean=[0.48235, 0.45882, 0.40784],\n",
    "            std=[0.229, 0.224, 0.225],\n",
    "        ),\n",
    "    ]\n",
    ")\n",
    "input = transform(image).unsqueeze(0)\n",
    "\n",
    "model = models.vgg16(num_classes=2)\n",
    "model.load_state_dict(torch.load(\"../models/VGG16.pt\"))\n",
    "model.eval()\n",
    "\n",
    "with torch.no_grad():\n",
    "    start_time = time.time()\n",
    "    output = model(input)\n",
    "    end_time = time.time()\n",
    "    print(\"파이토치:\")\n",
    "    print(output)\n",
    "    print(end_time - start_time)\n",
    "\n",
    "\n",
    "ort_session = ort.InferenceSession(\"../models/VGG16.onnx\")\n",
    "\n",
    "start_time = time.time()\n",
    "ort_inputs = {ort_session.get_inputs()[0].name: to_numpy(input)}\n",
    "ort_outs = ort_session.run(output_names=None, input_feed=ort_inputs)\n",
    "end_time = time.time()\n",
    "print(\"ONNX:\")\n",
    "print(ort_outs)\n",
    "print(end_time - start_time)"
   ]
  }
 ],
 "metadata": {
  "kernelspec": {
   "display_name": "Python 3 (ipykernel)",
   "language": "python",
   "name": "python3"
  },
  "language_info": {
   "codemirror_mode": {
    "name": "ipython",
    "version": 3
   },
   "file_extension": ".py",
   "mimetype": "text/x-python",
   "name": "python",
   "nbconvert_exporter": "python",
   "pygments_lexer": "ipython3",
   "version": "3.9.13"
  }
 },
 "nbformat": 4,
 "nbformat_minor": 5
}
