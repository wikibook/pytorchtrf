{
 "cells": [
  {
   "cell_type": "code",
   "execution_count": null,
   "id": "f49f0bd8-df62-4097-9d3e-9378e48c8e9b",
   "metadata": {},
   "outputs": [],
   "source": [
    "import os\n",
    "import time\n",
    "import torch\n",
    "from PIL import Image\n",
    "from torchvision import models\n",
    "from torchvision import transforms\n",
    "\n",
    "\n",
    "transform = transforms.Compose(\n",
    "    [\n",
    "        transforms.Resize(256),\n",
    "        transforms.CenterCrop(224),\n",
    "        transforms.ToTensor(),\n",
    "        transforms.Normalize(\n",
    "            mean=[0.48235, 0.45882, 0.40784],\n",
    "            std=[0.229, 0.224, 0.225],\n",
    "        ),\n",
    "    ]\n",
    ")\n",
    "\n",
    "image = Image.open(\"../datasets/images/cat.jpg\")\n",
    "inputs = transform(image).unsqueeze(0)\n",
    "\n",
    "model = models.vgg16(num_classes=2)\n",
    "model.load_state_dict(torch.load(\"../models/VGG16.pt\"))\n",
    "\n",
    "device = \"cuda\" if torch.cuda.is_available() else \"cpu\"\n",
    "model = model.to(device)\n",
    "model.eval()\n",
    "\n",
    "model_static_quantized = torch.jit.load(\"../models/PTSQ_VGG16.pt\")\n",
    "\n",
    "with torch.no_grad():\n",
    "    start_time = time.time()\n",
    "    outputs = model(inputs.to(device))\n",
    "    file_size = os.path.getsize(\"../models/VGG16.pt\") / 1e6\n",
    "    print(\"양자화 적용 전:\")\n",
    "    print(f\"출력 결과: {outputs}\")\n",
    "    print(f\"추론 시간: {time.time() - start_time:.4f}s\")\n",
    "    print(f\"파일 크기: {file_size:.2f} MB\")\n",
    "    print(\"\\n\")\n",
    "    \n",
    "start_time = time.time()\n",
    "outputs = model_static_quantized(inputs)\n",
    "file_size = os.path.getsize(\"../models/PTSQ_VGG16.pt\") / 1e6\n",
    "end_time = time.time() - start_time\n",
    "print(\"양자화 적용 후:\")\n",
    "print(f\"출력 결과: {outputs}\")\n",
    "print(f\"추론 시간: {time.time() - start_time:.4f}s\")\n",
    "print(f\"파일 크기: {file_size:.2f} MB\")"
   ]
  }
 ],
 "metadata": {
  "kernelspec": {
   "display_name": "Python 3 (ipykernel)",
   "language": "python",
   "name": "python3"
  },
  "language_info": {
   "codemirror_mode": {
    "name": "ipython",
    "version": 3
   },
   "file_extension": ".py",
   "mimetype": "text/x-python",
   "name": "python",
   "nbconvert_exporter": "python",
   "pygments_lexer": "ipython3",
   "version": "3.9.13"
  }
 },
 "nbformat": 4,
 "nbformat_minor": 5
}
