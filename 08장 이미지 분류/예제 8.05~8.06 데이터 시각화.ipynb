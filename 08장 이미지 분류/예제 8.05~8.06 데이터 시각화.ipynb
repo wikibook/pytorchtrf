{
 "cells": [
  {
   "cell_type": "code",
   "execution_count": null,
   "id": "2e839263-a9a4-4aca-861a-2fddd6f98b98",
   "metadata": {},
   "outputs": [],
   "source": [
    "from torch.utils.data import DataLoader\n",
    "from torchvision.datasets import ImageFolder\n",
    "from torchvision import transforms\n",
    "\n",
    "\n",
    "hyperparams = {\n",
    "    \"batch_size\": 4,\n",
    "    \"learning_rate\": 0.0001,\n",
    "    \"epochs\": 5,\n",
    "    \"transform\": transforms.Compose(\n",
    "        [\n",
    "            transforms.Resize(256),\n",
    "            transforms.CenterCrop(224),\n",
    "            transforms.ToTensor(),\n",
    "            transforms.Normalize(\n",
    "                mean=[0.48235, 0.45882, 0.40784],\n",
    "                std=[0.229, 0.224, 0.225]\n",
    "            )\n",
    "        ]\n",
    "    )\n",
    "}\n",
    "\n",
    "train_dataset = ImageFolder(\"../datasets/pet/train\", transform=hyperparams[\"transform\"])\n",
    "test_dataset = ImageFolder(\"../datasets/pet/test\", transform=hyperparams[\"transform\"])\n",
    "\n",
    "train_dataloader = DataLoader(train_dataset, batch_size=hyperparams[\"batch_size\"], shuffle=True, drop_last=True)\n",
    "test_dataloader = DataLoader(test_dataset, batch_size=hyperparams[\"batch_size\"], shuffle=True, drop_last=True)"
   ]
  },
  {
   "cell_type": "code",
   "execution_count": null,
   "id": "594e9833-44e2-4ac4-a1d6-266e19c4a2c8",
   "metadata": {},
   "outputs": [],
   "source": [
    "import numpy as np\n",
    "from matplotlib import pyplot as plt\n",
    "\n",
    "\n",
    "mean=[0.48235, 0.45882, 0.40784]\n",
    "std=[0.229, 0.224, 0.225]\n",
    "\n",
    "images, labels = next(iter(train_dataloader))\n",
    "for image, label in zip(images, labels):\n",
    "    image = image.numpy().transpose((1, 2, 0))\n",
    "    image = ((std * image + mean) * 255).astype(np.uint8)\n",
    "\n",
    "    plt.imshow(image)\n",
    "    plt.title(train_dataset.classes[int(label)])\n",
    "    plt.show()\n",
    "    break"
   ]
  }
 ],
 "metadata": {
  "kernelspec": {
   "display_name": "Python 3 (ipykernel)",
   "language": "python",
   "name": "python3"
  },
  "language_info": {
   "codemirror_mode": {
    "name": "ipython",
    "version": 3
   },
   "file_extension": ".py",
   "mimetype": "text/x-python",
   "name": "python",
   "nbconvert_exporter": "python",
   "pygments_lexer": "ipython3",
   "version": "3.9.13"
  }
 },
 "nbformat": 4,
 "nbformat_minor": 5
}
