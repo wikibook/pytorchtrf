{
 "cells": [
  {
   "cell_type": "code",
   "execution_count": null,
   "id": "adccb4cc-e0b1-47cd-a5e7-dedb6418fdc2",
   "metadata": {},
   "outputs": [],
   "source": [
    "import torch\n",
    "from torch import nn\n",
    "from torch import optim\n",
    "from torch.nn import functional as F\n",
    "from torch.utils.data import DataLoader\n",
    "from torchvision import models\n",
    "from torchvision import transforms\n",
    "from torchvision.datasets import ImageFolder\n",
    "\n",
    "\n",
    "hyperparams = {\n",
    "    \"batch_size\": 4,\n",
    "    \"learning_rate\": 0.0001,\n",
    "    \"epochs\": 5,\n",
    "    \"transform\": transforms.Compose(\n",
    "        [\n",
    "            transforms.Resize(256),\n",
    "            transforms.CenterCrop(224),\n",
    "            transforms.ToTensor(),\n",
    "            transforms.Normalize(\n",
    "                mean=[0.48235, 0.45882, 0.40784],\n",
    "                std=[0.229, 0.224, 0.225],\n",
    "            ),\n",
    "        ]\n",
    "    ),\n",
    "}"
   ]
  },
  {
   "cell_type": "code",
   "execution_count": null,
   "id": "6dc9ca1e",
   "metadata": {},
   "outputs": [],
   "source": [
    "train_dataset = ImageFolder(\"../datasets/pet/train\", transform=hyperparams[\"transform\"])\n",
    "test_dataset = ImageFolder(\"../datasets/pet/test\", transform=hyperparams[\"transform\"])\n",
    "\n",
    "train_dataloader = DataLoader(train_dataset, batch_size=hyperparams[\"batch_size\"], shuffle=True, drop_last=True)\n",
    "test_dataloader = DataLoader(test_dataset, batch_size=hyperparams[\"batch_size\"], shuffle=True, drop_last=True)"
   ]
  },
  {
   "cell_type": "code",
   "execution_count": null,
   "id": "9265e4ef",
   "metadata": {},
   "outputs": [],
   "source": [
    "\n",
    "model = models.vgg16(weights=\"VGG16_Weights.IMAGENET1K_V1\")\n",
    "model.classifier[6] = nn.Linear(4096, len(train_dataset.classes))"
   ]
  },
  {
   "cell_type": "code",
   "execution_count": null,
   "id": "003e97c5",
   "metadata": {},
   "outputs": [],
   "source": [
    "device = \"cuda\" if torch.cuda.is_available() else \"cpu\"\n",
    "model = model.to(device)\n",
    "criterion = nn.CrossEntropyLoss().to(device)\n",
    "optimizer = optim.SGD(model.parameters(), lr=hyperparams[\"learning_rate\"])"
   ]
  },
  {
   "cell_type": "code",
   "execution_count": null,
   "id": "384f5d0d",
   "metadata": {},
   "outputs": [],
   "source": [
    "for epoch in range(hyperparams[\"epochs\"]):\n",
    "    cost = 0.0\n",
    "\n",
    "    for images, classes in train_dataloader:\n",
    "        images = images.to(device)\n",
    "        classes = classes.to(device)\n",
    "\n",
    "        output = model(images)\n",
    "        loss = criterion(output, classes)\n",
    "\n",
    "        optimizer.zero_grad()\n",
    "        loss.backward()\n",
    "        optimizer.step()\n",
    "\n",
    "        cost += loss\n",
    "\n",
    "    cost = cost / len(train_dataloader)\n",
    "    print(f\"Epoch : {epoch+1:4d}, Cost : {cost:.3f}\")"
   ]
  },
  {
   "cell_type": "code",
   "execution_count": null,
   "id": "1fff4e34",
   "metadata": {},
   "outputs": [],
   "source": [
    "\n",
    "with torch.no_grad():\n",
    "    model.eval()\n",
    "\n",
    "    accuracy = 0.0\n",
    "    for images, classes in test_dataloader:\n",
    "        images = images.to(device)\n",
    "        classes = classes.to(device)\n",
    "\n",
    "        outputs = model(images)\n",
    "        probs = F.softmax(outputs, dim=-1)\n",
    "        outputs_classes = torch.argmax(probs, dim=-1)\n",
    "\n",
    "        accuracy += int(torch.eq(classes, outputs_classes).sum())\n",
    "\n",
    "    print(f\"acc@1 : {accuracy / (len(test_dataloader) * hyperparams['batch_size']) * 100:.2f}%\")"
   ]
  },
  {
   "cell_type": "code",
   "execution_count": null,
   "id": "d50655b8",
   "metadata": {},
   "outputs": [],
   "source": [
    "torch.save(model.state_dict(), \"../models/VGG16.pt\")\n",
    "print(\"Saved the model weights\")"
   ]
  }
 ],
 "metadata": {
  "kernelspec": {
   "display_name": "Python 3 (ipykernel)",
   "language": "python",
   "name": "python3"
  },
  "language_info": {
   "codemirror_mode": {
    "name": "ipython",
    "version": 3
   },
   "file_extension": ".py",
   "mimetype": "text/x-python",
   "name": "python",
   "nbconvert_exporter": "python",
   "pygments_lexer": "ipython3",
   "version": "3.9.13"
  }
 },
 "nbformat": 4,
 "nbformat_minor": 5
}
