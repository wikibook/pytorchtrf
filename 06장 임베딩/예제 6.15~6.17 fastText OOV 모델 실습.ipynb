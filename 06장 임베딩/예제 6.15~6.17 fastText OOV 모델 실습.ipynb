{
 "cells": [
  {
   "cell_type": "code",
   "execution_count": null,
   "id": "f8e63add-f91e-421b-ad32-531ed802289f",
   "metadata": {},
   "outputs": [],
   "source": [
    "from Korpora import Korpora\n",
    "\n",
    "\n",
    "corpus = Korpora.load(\"kornli\")\n",
    "corpus_texts = corpus.get_all_texts() + corpus.get_all_pairs()\n",
    "tokens = [sentence.split() for sentence in corpus_texts]\n",
    "\n",
    "print(tokens[:3])"
   ]
  },
  {
   "cell_type": "code",
   "execution_count": null,
   "id": "a7f20efe-1a33-4dc6-89e5-f66bf5c2e775",
   "metadata": {},
   "outputs": [],
   "source": [
    "from gensim.models import FastText\n",
    "\n",
    "\n",
    "fastText = FastText(\n",
    "    sentences=tokens,\n",
    "    vector_size=128,\n",
    "    window=5,\n",
    "    min_count=5,\n",
    "    sg=1,\n",
    "    max_final_vocab=20000,\n",
    "    epochs=3,\n",
    "    min_n=2,\n",
    "    max_n=6\n",
    ")\n",
    "\n",
    "# fastText.save(\"../models/fastText.model\")\n",
    "# fastText = FastText.load(\"../models/fastText.model\")"
   ]
  },
  {
   "cell_type": "code",
   "execution_count": null,
   "id": "da92edfb-febe-4ed3-a083-4d06122355ed",
   "metadata": {},
   "outputs": [],
   "source": [
    "oov_token = \"사랑해요\"\n",
    "oov_vector = fastText.wv[oov_token]\n",
    "\n",
    "print(oov_token in fastText.wv.index_to_key)\n",
    "print(fastText.wv.most_similar(oov_vector, topn=5))"
   ]
  }
 ],
 "metadata": {
  "kernelspec": {
   "display_name": "Python 3 (ipykernel)",
   "language": "python",
   "name": "python3"
  },
  "language_info": {
   "codemirror_mode": {
    "name": "ipython",
    "version": 3
   },
   "file_extension": ".py",
   "mimetype": "text/x-python",
   "name": "python",
   "nbconvert_exporter": "python",
   "pygments_lexer": "ipython3",
   "version": "3.9.13"
  }
 },
 "nbformat": 4,
 "nbformat_minor": 5
}
