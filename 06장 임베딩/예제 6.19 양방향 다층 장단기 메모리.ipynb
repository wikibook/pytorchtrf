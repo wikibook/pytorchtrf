{
 "cells": [
  {
   "cell_type": "code",
   "execution_count": null,
   "id": "bb9d7c08-8d28-45d0-887a-a63b6dea7798",
   "metadata": {},
   "outputs": [],
   "source": [
    "import torch\n",
    "from torch import nn\n",
    "\n",
    "\n",
    "input_size = 128\n",
    "output_size = 256\n",
    "num_layers = 3\n",
    "bidirectional = True\n",
    "proj_size = 64\n",
    "\n",
    "model = nn.LSTM(\n",
    "    input_size=input_size,\n",
    "    hidden_size=output_size,\n",
    "    num_layers=num_layers,\n",
    "    batch_first=True,\n",
    "    bidirectional=bidirectional,\n",
    "    proj_size=proj_size,\n",
    ")\n",
    "\n",
    "batch_size = 4\n",
    "sequence_len = 6\n",
    "\n",
    "inputs = torch.randn(batch_size, sequence_len, input_size)\n",
    "h_0 = torch.rand(\n",
    "    num_layers * (int(bidirectional) + 1),\n",
    "    batch_size,\n",
    "    proj_size if proj_size > 0 else output_size,\n",
    ")\n",
    "c_0 = torch.rand(num_layers * (int(bidirectional) + 1), batch_size, output_size)\n",
    "\n",
    "outputs, (h_n, c_n) = model(inputs, (h_0, c_0))\n",
    "\n",
    "print(outputs.shape)\n",
    "print(h_n.shape)\n",
    "print(c_n.shape)"
   ]
  }
 ],
 "metadata": {
  "kernelspec": {
   "display_name": "Python 3 (ipykernel)",
   "language": "python",
   "name": "python3"
  },
  "language_info": {
   "codemirror_mode": {
    "name": "ipython",
    "version": 3
   },
   "file_extension": ".py",
   "mimetype": "text/x-python",
   "name": "python",
   "nbconvert_exporter": "python",
   "pygments_lexer": "ipython3",
   "version": "3.9.13"
  }
 },
 "nbformat": 4,
 "nbformat_minor": 5
}
